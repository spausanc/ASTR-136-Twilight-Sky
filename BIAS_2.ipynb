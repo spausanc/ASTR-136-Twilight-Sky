{
 "cells": [
  {
   "cell_type": "code",
   "execution_count": 4,
   "metadata": {},
   "outputs": [],
   "source": [
    "from astropy.io import fits\n",
    "import matplotlib.pyplot as plt\n",
    "import numpy as np\n",
    "import os, sys"
   ]
  },
  {
   "cell_type": "code",
   "execution_count": 16,
   "metadata": {},
   "outputs": [
    {
     "name": "stdout",
     "output_type": "stream",
     "text": [
      "/home/jovyan/ASTR_136\n"
     ]
    }
   ],
   "source": [
    "cd ASTR_136"
   ]
  },
  {
   "cell_type": "code",
   "execution_count": 17,
   "metadata": {},
   "outputs": [],
   "source": [
    "files = os.listdir('BIAS/Stuff')\n",
    "biasdata = np.zeros((510, 765, len(files)))"
   ]
  },
  {
   "cell_type": "code",
   "execution_count": 18,
   "metadata": {},
   "outputs": [
    {
     "name": "stdout",
     "output_type": "stream",
     "text": [
      "/home/jovyan/ASTR_136/BIAS/Stuff\n"
     ]
    }
   ],
   "source": [
    "cd BIAS/Stuff"
   ]
  },
  {
   "cell_type": "code",
   "execution_count": 19,
   "metadata": {},
   "outputs": [],
   "source": [
    "for i in range(len(files)):\n",
    "    hdu = fits.open(files[i])\n",
    "    biasdata[:,:, i] = hdu[0].data"
   ]
  },
  {
   "cell_type": "code",
   "execution_count": 20,
   "metadata": {},
   "outputs": [],
   "source": [
    "bias_master_mean = np.mean(biasdata, axis =2)\n",
    "bias_master_median = np.median(biasdata, axis =2)"
   ]
  },
  {
   "cell_type": "code",
   "execution_count": 21,
   "metadata": {},
   "outputs": [
    {
     "name": "stdout",
     "output_type": "stream",
     "text": [
      "/home/jovyan/ASTR_136\n"
     ]
    }
   ],
   "source": [
    "cd ../.."
   ]
  },
  {
   "cell_type": "code",
   "execution_count": 22,
   "metadata": {},
   "outputs": [],
   "source": [
    "files_dark = os.listdir('DARK/')\n",
    "dark_data = np.zeros((510, 765, len(files_dark)))"
   ]
  },
  {
   "cell_type": "code",
   "execution_count": 23,
   "metadata": {},
   "outputs": [
    {
     "name": "stdout",
     "output_type": "stream",
     "text": [
      "/home/jovyan/ASTR_136/DARK\n"
     ]
    }
   ],
   "source": [
    "cd DARK"
   ]
  },
  {
   "cell_type": "code",
   "execution_count": 24,
   "metadata": {},
   "outputs": [],
   "source": [
    "exp_times =[]\n",
    "for i in range(len(files_dark)):\n",
    "    hdu_dark = fits.open(files_dark[i])\n",
    "    dark_data[:,:, i] = hdu_dark[0].data #retrieving data from each individual fits file\n",
    "    exp_time = hdu_dark[0].header['EXPTIME']\n",
    "    exp_times.append(exp_time) "
   ]
  },
  {
   "cell_type": "code",
   "execution_count": 25,
   "metadata": {},
   "outputs": [],
   "source": [
    "exp_times = np.array(exp_times)"
   ]
  },
  {
   "cell_type": "code",
   "execution_count": 26,
   "metadata": {},
   "outputs": [],
   "source": [
    "bias_master = bias_master_mean[:,:,None]\n",
    "z = np.arange(1,41,1)\n",
    "for i in z:\n",
    "    dark_reduced = dark_data - bias_master #dark_master = individ dark fits subtracted by bias"
   ]
  },
  {
   "cell_type": "code",
   "execution_count": 27,
   "metadata": {},
   "outputs": [],
   "source": [
    "dark_master = dark_reduced/exp_time"
   ]
  },
  {
   "cell_type": "code",
   "execution_count": 28,
   "metadata": {},
   "outputs": [
    {
     "name": "stdout",
     "output_type": "stream",
     "text": [
      "/home/jovyan/ASTR_136\n"
     ]
    }
   ],
   "source": [
    "cd .."
   ]
  },
  {
   "cell_type": "code",
   "execution_count": 29,
   "metadata": {},
   "outputs": [],
   "source": [
    "files_flat = [f for f in os.listdir('TWI/') if f.endswith('.fits')]\n",
    "flat_data = np.zeros((510, 765, len(files_flat)))"
   ]
  },
  {
   "cell_type": "code",
   "execution_count": 30,
   "metadata": {},
   "outputs": [
    {
     "name": "stdout",
     "output_type": "stream",
     "text": [
      "/home/jovyan/ASTR_136/TWI\n"
     ]
    }
   ],
   "source": [
    "cd TWI"
   ]
  },
  {
   "cell_type": "code",
   "execution_count": 31,
   "metadata": {},
   "outputs": [],
   "source": [
    "exp_time_flat = []\n",
    "times = []\n",
    "for i in range(len(files_flat)):\n",
    "    hdu_flat = fits.open(files_flat[i])\n",
    "    flat_data[:,:, i] = hdu_flat[0].data #retrieving data from each individual fits file\n",
    "    exp_times_flat = hdu_flat[0].header['EXPTIME']\n",
    "    time= hdu_flat[0].header['TIME-OBS'].split(':')\n",
    "    times.append(time)\n",
    "    exp_time_flat.append(exp_times_flat)\n",
    "    exp_flat = np.array(exp_time_flat)"
   ]
  },
  {
   "cell_type": "code",
   "execution_count": 32,
   "metadata": {},
   "outputs": [
    {
     "data": {
      "text/plain": [
       "(510, 765, 4)"
      ]
     },
     "execution_count": 32,
     "metadata": {},
     "output_type": "execute_result"
    }
   ],
   "source": [
    "flat_data.shape"
   ]
  },
  {
   "cell_type": "code",
   "execution_count": 33,
   "metadata": {},
   "outputs": [],
   "source": [
    "dark_mean = np.mean(dark_master, axis=2, keepdims=True)"
   ]
  },
  {
   "cell_type": "code",
   "execution_count": 34,
   "metadata": {},
   "outputs": [],
   "source": [
    "flat_master = ((flat_data - bias_master)/exp_flat)-dark_mean #here it's still all 67 images"
   ]
  },
  {
   "cell_type": "code",
   "execution_count": 35,
   "metadata": {},
   "outputs": [],
   "source": [
    "flat_master = np.mean(flat_master, axis =2 , keepdims = True)"
   ]
  },
  {
   "cell_type": "code",
   "execution_count": 36,
   "metadata": {},
   "outputs": [
    {
     "data": {
      "text/plain": [
       "(510, 765, 1)"
      ]
     },
     "execution_count": 36,
     "metadata": {},
     "output_type": "execute_result"
    }
   ],
   "source": [
    "flat_master.shape"
   ]
  },
  {
   "cell_type": "code",
   "execution_count": 37,
   "metadata": {},
   "outputs": [
    {
     "name": "stdout",
     "output_type": "stream",
     "text": [
      "/home/jovyan/ASTR_136\n"
     ]
    }
   ],
   "source": [
    "cd .."
   ]
  },
  {
   "cell_type": "code",
   "execution_count": 38,
   "metadata": {},
   "outputs": [],
   "source": [
    "files_science = [f for f in os.listdir('SCIENCE') if f.endswith('.fits')]\n",
    "science_data = np.zeros((510, 765, len(files_science)))"
   ]
  },
  {
   "cell_type": "code",
   "execution_count": 39,
   "metadata": {},
   "outputs": [
    {
     "name": "stdout",
     "output_type": "stream",
     "text": [
      "/home/jovyan/ASTR_136/SCIENCE\n"
     ]
    }
   ],
   "source": [
    "cd SCIENCE"
   ]
  },
  {
   "cell_type": "code",
   "execution_count": 127,
   "metadata": {},
   "outputs": [
    {
     "data": {
      "text/plain": [
       "'Project1_SB.00000122.fits'"
      ]
     },
     "execution_count": 127,
     "metadata": {},
     "output_type": "execute_result"
    }
   ],
   "source": [
    "files_science[66]"
   ]
  },
  {
   "cell_type": "code",
   "execution_count": 41,
   "metadata": {},
   "outputs": [],
   "source": [
    "exp_time_science = []\n",
    "times = []\n",
    "for i in range(len(files_science)):\n",
    "    hdu_science = fits.open(files_science[i])\n",
    "    science_data[:,:, i] = hdu_science[0].data #retrieving data from each individual fits file\n",
    "    exp_times_science = hdu_science[0].header['EXPTIME']\n",
    "    time= hdu_science[0].header['TIME-OBS'].split(':')\n",
    "    times.append(time)\n",
    "    exp_time_science.append(exp_times_science)\n",
    "    exp_science = np.array(exp_time_science)"
   ]
  },
  {
   "cell_type": "code",
   "execution_count": 123,
   "metadata": {},
   "outputs": [
    {
     "data": {
      "text/plain": [
       "array([[ 5606.,  4484.,  7175., ..., 17629., 16643.,  9858.],\n",
       "       [ 5694.,  4486.,  7193., ..., 17500., 16470.,  9840.],\n",
       "       [ 5577.,  4429.,  7115., ..., 17644., 16690.,  9939.],\n",
       "       ...,\n",
       "       [ 5755.,  4384.,  7048., ..., 17633., 16633.,  9858.],\n",
       "       [ 5584.,  4471.,  7108., ..., 17592., 16745.,  9857.],\n",
       "       [ 5718.,  4436.,  7094., ..., 17789., 16947.,  9959.]])"
      ]
     },
     "execution_count": 123,
     "metadata": {},
     "output_type": "execute_result"
    }
   ],
   "source": [
    "science_data[0]"
   ]
  },
  {
   "cell_type": "code",
   "execution_count": 43,
   "metadata": {},
   "outputs": [],
   "source": [
    "science_master =((science_data - bias_master)/exp_science)-dark_mean "
   ]
  },
  {
   "cell_type": "code",
   "execution_count": 44,
   "metadata": {},
   "outputs": [],
   "source": [
    "science_image = science_master / flat_master"
   ]
  },
  {
   "cell_type": "code",
   "execution_count": 45,
   "metadata": {},
   "outputs": [],
   "source": [
    "science_mean = science_image.mean(axis = (0,1))"
   ]
  },
  {
   "cell_type": "code",
   "execution_count": 46,
   "metadata": {},
   "outputs": [
    {
     "data": {
      "text/plain": [
       "array([1.89153573e-02, 1.47336902e-02, 7.87749462e-03, 4.02938977e-03,\n",
       "       6.73406187e-02, 6.14303253e-02, 5.60047471e-02, 5.11234056e-02,\n",
       "       2.86469880e-02, 3.68445314e-02, 1.33041458e-01, 1.15543956e-01,\n",
       "       1.05762988e-01, 9.66742855e-02, 8.83330627e-02, 8.07443902e-02,\n",
       "       1.79746616e-01, 7.36678583e-02, 1.92422561e+00, 9.46642785e-01,\n",
       "       8.94109015e-01, 4.40652722e-01, 1.71013058e-01, 1.62712254e-01,\n",
       "       1.54636196e-01, 3.89976005e+00, 2.24637414e-02, 1.39877338e-01,\n",
       "       1.73561413e+00, 1.47144436e-01, 3.58315058e-01, 1.01771280e+00,\n",
       "       3.47675412e-01, 3.77686036e+00, 3.92412360e-01, 3.37039582e-01,\n",
       "       2.07695590e-01, 1.98394858e-01, 1.03525316e+00, 1.78735465e+00,\n",
       "       1.88911170e-01, 4.16586511e-01, 3.99960841e+00, 1.89686455e+00,\n",
       "       3.63925477e+00, 9.58461313e-01, 4.28975790e-01, 1.94543603e+00,\n",
       "       4.24810841e+00, 1.86982464e+00, 9.97226620e-01, 3.89749176e+00,\n",
       "       3.69196444e-01, 3.80527457e-01, 4.06683334e+00, 9.09191098e-01,\n",
       "       1.76156683e+00, 1.84184077e+00, 3.44165287e+00, 3.93045091e+00,\n",
       "       3.67219266e+00, 9.76297103e-01, 9.77600048e-01, 8.82129887e-01,\n",
       "       1.81449122e+00, 1.71028522e+00, 4.04169342e-01])"
      ]
     },
     "execution_count": 46,
     "metadata": {},
     "output_type": "execute_result"
    }
   ],
   "source": [
    "science_mean"
   ]
  },
  {
   "cell_type": "code",
   "execution_count": 47,
   "metadata": {},
   "outputs": [],
   "source": [
    "times = np.array(times)"
   ]
  },
  {
   "cell_type": "code",
   "execution_count": 122,
   "metadata": {},
   "outputs": [
    {
     "data": {
      "text/plain": [
       "array([['03', '17', '45.420'],\n",
       "       ['03', '18', '47.976'],\n",
       "       ['03', '20', '39.579'],\n",
       "       ['03', '23', '42.084'],\n",
       "       ['03', '12', '30.170'],\n",
       "       ['03', '12', '52.650'],\n",
       "       ['03', '13', '15.286'],\n",
       "       ['03', '13', '37.765'],\n",
       "       ['03', '15', '40.417'],\n",
       "       ['03', '14', '37.970'],\n",
       "       ['03', '09', '45.590'],\n",
       "       ['03', '10', '15.152'],\n",
       "       ['03', '10', '37.694'],\n",
       "       ['03', '11', '00.174'],\n",
       "       ['03', '11', '22.685'],\n",
       "       ['03', '11', '45.180'],\n",
       "       ['03', '08', '30.585'],\n",
       "       ['03', '12', '07.722'],\n",
       "       ['02', '58', '26.212'],\n",
       "       ['03', '01', '46.402'],\n",
       "       ['03', '01', '57.354'],\n",
       "       ['03', '04', '48.759'],\n",
       "       ['03', '08', '43.065'],\n",
       "       ['03', '08', '55.561'],\n",
       "       ['03', '09', '08.088'],\n",
       "       ['02', '55', '19.716'],\n",
       "       ['03', '16', '42.942'],\n",
       "       ['03', '09', '33.141'],\n",
       "       ['02', '58', '55.727'],\n",
       "       ['03', '09', '20.614'],\n",
       "       ['03', '05', '41.222'],\n",
       "       ['03', '01', '18.993'],\n",
       "       ['03', '05', '48.710'],\n",
       "       ['02', '55', '26.143'],\n",
       "       ['03', '05', '18.773'],\n",
       "       ['03', '05', '56.276'],\n",
       "       ['03', '07', '53.083'],\n",
       "       ['03', '08', '05.578'],\n",
       "       ['03', '01', '13.533'],\n",
       "       ['02', '58', '47.272'],\n",
       "       ['03', '08', '18.043'],\n",
       "       ['03', '05', '03.844'],\n",
       "       ['02', '55', '29.372'],\n",
       "       ['02', '58', '30.424'],\n",
       "       ['02', '55', '38.982'],\n",
       "       ['03', '01', '40.911'],\n",
       "       ['03', '04', '56.309'],\n",
       "       ['02', '58', '22.031'],\n",
       "       ['02', '55', '32.617'],\n",
       "       ['02', '58', '34.667'],\n",
       "       ['03', '01', '24.453'],\n",
       "       ['02', '55', '22.929'],\n",
       "       ['03', '05', '33.765'],\n",
       "       ['03', '05', '26.261'],\n",
       "       ['02', '55', '35.799'],\n",
       "       ['03', '01', '51.894'],\n",
       "       ['02', '58', '51.515'],\n",
       "       ['02', '58', '38.879'],\n",
       "       ['02', '55', '42.180'],\n",
       "       ['02', '55', '16.455'],\n",
       "       ['02', '55', '13.195'],\n",
       "       ['03', '01', '29.991'],\n",
       "       ['03', '01', '35.451'],\n",
       "       ['03', '02', '02.814'],\n",
       "       ['02', '58', '43.076'],\n",
       "       ['02', '58', '59.924'],\n",
       "       ['03', '05', '11.332']], dtype='<U6')"
      ]
     },
     "execution_count": 122,
     "metadata": {},
     "output_type": "execute_result"
    }
   ],
   "source": [
    "times"
   ]
  },
  {
   "cell_type": "code",
   "execution_count": 105,
   "metadata": {},
   "outputs": [],
   "source": [
    "hours = np.array(times[:,0])\n",
    "minutes = np.array(times[:,1])\n",
    "seconds = np.array(times[:,2])"
   ]
  },
  {
   "cell_type": "code",
   "execution_count": 106,
   "metadata": {},
   "outputs": [
    {
     "name": "stdout",
     "output_type": "stream",
     "text": [
      "67\n"
     ]
    }
   ],
   "source": [
    "print(len(seconds))"
   ]
  },
  {
   "cell_type": "code",
   "execution_count": 107,
   "metadata": {},
   "outputs": [],
   "source": [
    "z = np.arange(0,67,1)"
   ]
  },
  {
   "cell_type": "code",
   "execution_count": 108,
   "metadata": {},
   "outputs": [],
   "source": [
    "hours_sec = []\n",
    "min_sec = []\n",
    "SECOND = []\n",
    "\n",
    "for i in range(len(z)):\n",
    "    hours_secs =  int(hours[i]) \n",
    "    min_secs = int(minutes[i])\n",
    "    second = float(seconds[i])\n",
    "    hours_sec.append(hours_secs)\n",
    "    min_sec.append(min_secs)\n",
    "    SECOND.append(second)\n",
    "\n",
    "    #hours_to_sec = hours_sec*360\n",
    "    #min_sec= min_sec*60\n",
    "    "
   ]
  },
  {
   "cell_type": "code",
   "execution_count": 109,
   "metadata": {},
   "outputs": [],
   "source": [
    "hours_sec = np.array(hours_sec)\n",
    "min_sec = np.array(min_sec)"
   ]
  },
  {
   "cell_type": "code",
   "execution_count": 111,
   "metadata": {},
   "outputs": [
    {
     "name": "stdout",
     "output_type": "stream",
     "text": [
      "67\n"
     ]
    }
   ],
   "source": [
    "HOURS_SEC = hours_sec*360\n",
    "MIN_SEC = min_sec*60\n",
    "print(len(SECOND))"
   ]
  },
  {
   "cell_type": "code",
   "execution_count": 112,
   "metadata": {},
   "outputs": [
    {
     "data": {
      "text/plain": [
       "[45.42,\n",
       " 47.976,\n",
       " 39.579,\n",
       " 42.084,\n",
       " 30.17,\n",
       " 52.65,\n",
       " 15.286,\n",
       " 37.765,\n",
       " 40.417,\n",
       " 37.97,\n",
       " 45.59,\n",
       " 15.152,\n",
       " 37.694,\n",
       " 0.174,\n",
       " 22.685,\n",
       " 45.18,\n",
       " 30.585,\n",
       " 7.722,\n",
       " 26.212,\n",
       " 46.402,\n",
       " 57.354,\n",
       " 48.759,\n",
       " 43.065,\n",
       " 55.561,\n",
       " 8.088,\n",
       " 19.716,\n",
       " 42.942,\n",
       " 33.141,\n",
       " 55.727,\n",
       " 20.614,\n",
       " 41.222,\n",
       " 18.993,\n",
       " 48.71,\n",
       " 26.143,\n",
       " 18.773,\n",
       " 56.276,\n",
       " 53.083,\n",
       " 5.578,\n",
       " 13.533,\n",
       " 47.272,\n",
       " 18.043,\n",
       " 3.844,\n",
       " 29.372,\n",
       " 30.424,\n",
       " 38.982,\n",
       " 40.911,\n",
       " 56.309,\n",
       " 22.031,\n",
       " 32.617,\n",
       " 34.667,\n",
       " 24.453,\n",
       " 22.929,\n",
       " 33.765,\n",
       " 26.261,\n",
       " 35.799,\n",
       " 51.894,\n",
       " 51.515,\n",
       " 38.879,\n",
       " 42.18,\n",
       " 16.455,\n",
       " 13.195,\n",
       " 29.991,\n",
       " 35.451,\n",
       " 2.814,\n",
       " 43.076,\n",
       " 59.924,\n",
       " 11.332]"
      ]
     },
     "execution_count": 112,
     "metadata": {},
     "output_type": "execute_result"
    }
   ],
   "source": [
    "SECOND"
   ]
  },
  {
   "cell_type": "code",
   "execution_count": 113,
   "metadata": {},
   "outputs": [],
   "source": [
    "SEC = np.array(SECOND)"
   ]
  },
  {
   "cell_type": "code",
   "execution_count": 114,
   "metadata": {},
   "outputs": [
    {
     "name": "stdout",
     "output_type": "stream",
     "text": [
      "67\n"
     ]
    }
   ],
   "source": [
    "print(len(SEC))"
   ]
  },
  {
   "cell_type": "code",
   "execution_count": 115,
   "metadata": {},
   "outputs": [],
   "source": [
    "TIME = HOURS_SEC + MIN_SEC +SEC"
   ]
  },
  {
   "cell_type": "code",
   "execution_count": 117,
   "metadata": {},
   "outputs": [
    {
     "name": "stdout",
     "output_type": "stream",
     "text": [
      "[2145.42  2207.976 2319.579 2502.084 1830.17  1852.65  1875.286 1897.765\n",
      " 2020.417 1957.97  1665.59  1695.152 1717.694 1740.174 1762.685 1785.18\n",
      " 1590.585 1807.722 4226.212 1186.402 1197.354 1368.759 1603.065 1615.561\n",
      " 1628.088 4039.716 2082.942 1653.141 4255.727 1640.614 1421.222 1158.993\n",
      " 1428.71  4046.143 1398.773 1436.276 1553.083 1565.578 1153.533 4247.272\n",
      " 1578.043 1383.844 4049.372 4230.424 4058.982 1180.911 1376.309 4222.031\n",
      " 4052.617 4234.667 1164.453 4042.929 1413.765 1406.261 4055.799 1191.894\n",
      " 4251.515 4238.879 4062.18  4036.455 4033.195 1169.991 1175.451 1202.814\n",
      " 4243.076 4259.924 1391.332]\n"
     ]
    }
   ],
   "source": [
    "print(TIME)"
   ]
  },
  {
   "cell_type": "code",
   "execution_count": 120,
   "metadata": {},
   "outputs": [
    {
     "data": {
      "image/png": "[encoded data removed]",
      "text/plain": [
       "<Figure size 432x288 with 1 Axes>"
      ]
     },
     "metadata": {
      "needs_background": "light"
     },
     "output_type": "display_data"
    }
   ],
   "source": [
    "plt.xlabel('time (s)') \n",
    "plt.ylabel('sky brightness') \n",
    "plt.title('TWILIGHT SKY')\n",
    "ax = plt.subplot(111)\n",
    "plt.scatter(TIME, science_mean, label=\"projected\" , color = 'darkblue')\n",
    "plt.show() "
   ]
  },
  {
   "cell_type": "code",
   "execution_count": null,
   "metadata": {},
   "outputs": [],
   "source": []
  },
  {
   "cell_type": "code",
   "execution_count": null,
   "metadata": {},
   "outputs": [],
   "source": [
    "#make flat_master by following same protocol but using TWI SKI\n",
    "# make final flat image by subtracting flat_master - dark_master"
   ]
  },
  {
   "cell_type": "code",
   "execution_count": null,
   "metadata": {},
   "outputs": [],
   "source": [
    "#do a best fit line and return goodness of fit\n",
    "#times vs. sky brightess (time = min)\n",
    "#"
   ]
  }
 ],
 "metadata": {
  "kernelspec": {
   "display_name": "Python 3",
   "language": "python",
   "name": "python3"
  },
  "language_info": {
   "codemirror_mode": {
    "name": "ipython",
    "version": 3
   },
   "file_extension": ".py",
   "mimetype": "text/x-python",
   "name": "python",
   "nbconvert_exporter": "python",
   "pygments_lexer": "ipython3",
   "version": "3.7.3"
  }
 },
 "nbformat": 4,
 "nbformat_minor": 4
}
