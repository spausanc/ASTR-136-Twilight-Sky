{
 "cells": [
  {
   "cell_type": "code",
   "execution_count": 1,
   "metadata": {},
   "outputs": [],
   "source": [
    "from astropy.io import fits\n",
    "import matplotlib.pyplot as plt\n",
    "import numpy as np\n",
    "import os, sys"
   ]
  },
  {
   "cell_type": "code",
   "execution_count": 32,
   "metadata": {},
   "outputs": [
    {
     "name": "stdout",
     "output_type": "stream",
     "text": [
      "/home/jovyan/ASTR_136\n"
     ]
    }
   ],
   "source": [
    "cd .."
   ]
  },
  {
   "cell_type": "code",
   "execution_count": 33,
   "metadata": {},
   "outputs": [],
   "source": [
    "hdu_1 = fits.open(\"BIAS/Stuff/Project1_SB.00000002.BIAS.fits\")\n",
    "hdu_2 = fits.open(\"BIAS/Stuff/Project1_SB.00000003.BIAS.fits\")"
   ]
  },
  {
   "cell_type": "code",
   "execution_count": 34,
   "metadata": {},
   "outputs": [
    {
     "name": "stdout",
     "output_type": "stream",
     "text": [
      "(510, 765)\n",
      "(510, 765)\n"
     ]
    }
   ],
   "source": [
    "x = hdu_1[0].data\n",
    "y = hdu_2[0].data\n",
    "print(x.shape)\n",
    "print(y.shape)"
   ]
  },
  {
   "cell_type": "code",
   "execution_count": 36,
   "metadata": {},
   "outputs": [
    {
     "name": "stdout",
     "output_type": "stream",
     "text": [
      "[Errno 2] No such file or directory: 'ASTR_136'\n",
      "/home/jovyan/ASTR_136\n"
     ]
    }
   ],
   "source": [
    "cd ASTR_136"
   ]
  },
  {
   "cell_type": "code",
   "execution_count": 37,
   "metadata": {},
   "outputs": [],
   "source": [
    "files = os.listdir('BIAS/Stuff')\n",
    "biasdata = np.zeros((510, 765, len(files)))"
   ]
  },
  {
   "cell_type": "code",
   "execution_count": 38,
   "metadata": {},
   "outputs": [
    {
     "name": "stdout",
     "output_type": "stream",
     "text": [
      "/home/jovyan/ASTR_136/BIAS/Stuff\n"
     ]
    }
   ],
   "source": [
    "cd BIAS/Stuff"
   ]
  },
  {
   "cell_type": "code",
   "execution_count": 39,
   "metadata": {},
   "outputs": [],
   "source": [
    "for i in range(len(files)):\n",
    "    hdu = fits.open(files[i])\n",
    "    biasdata[:,:, i] = hdu[0].data"
   ]
  },
  {
   "cell_type": "code",
   "execution_count": 40,
   "metadata": {},
   "outputs": [
    {
     "data": {
      "text/plain": [
       "(765, 20)"
      ]
     },
     "execution_count": 40,
     "metadata": {},
     "output_type": "execute_result"
    }
   ],
   "source": [
    "biasdata[0].shape"
   ]
  },
  {
   "cell_type": "code",
   "execution_count": 41,
   "metadata": {},
   "outputs": [],
   "source": [
    "bias_master_mean = np.mean(biasdata, axis =2)\n",
    "bias_master_median = np.median(biasdata, axis =2)"
   ]
  },
  {
   "cell_type": "code",
   "execution_count": 63,
   "metadata": {},
   "outputs": [],
   "source": [
    "#plt.imshow(bias_master_mean)\n",
    "#plt.show()\n",
    "#plt.imshow(bias_master_mean, vmin= np.percentile(bias_master_mean, 16), vmax =np.percentile(bias_master_mean, 84))\n",
    "#plt.show()"
   ]
  },
  {
   "cell_type": "code",
   "execution_count": 43,
   "metadata": {},
   "outputs": [
    {
     "data": {
      "text/plain": [
       "'/home/jovyan/ASTR_136/BIAS/Stuff'"
      ]
     },
     "execution_count": 43,
     "metadata": {},
     "output_type": "execute_result"
    }
   ],
   "source": [
    "pwd"
   ]
  },
  {
   "cell_type": "code",
   "execution_count": 44,
   "metadata": {},
   "outputs": [
    {
     "name": "stdout",
     "output_type": "stream",
     "text": [
      "/home/jovyan/ASTR_136\n"
     ]
    }
   ],
   "source": [
    "cd ../..\n"
   ]
  },
  {
   "cell_type": "code",
   "execution_count": 45,
   "metadata": {},
   "outputs": [],
   "source": [
    "files_dark = os.listdir('DARK/')\n",
    "dark_data = np.zeros((510, 765, len(files_dark)))"
   ]
  },
  {
   "cell_type": "code",
   "execution_count": 46,
   "metadata": {},
   "outputs": [
    {
     "name": "stdout",
     "output_type": "stream",
     "text": [
      "/home/jovyan/ASTR_136/DARK\n"
     ]
    }
   ],
   "source": [
    "cd DARK"
   ]
  },
  {
   "cell_type": "code",
   "execution_count": 47,
   "metadata": {},
   "outputs": [],
   "source": [
    "exp_time = []\n",
    "for i in range(len(files_dark)):\n",
    "    hdu_dark = fits.open(files_dark[i])\n",
    "    dark_data[:,:, i] = hdu_dark[0].data #retrieving data from each individual fits file\n",
    "    exp_times = hdu_dark[0].header['EXPTIME']\n",
    "    exp_time.append(exp_times)"
   ]
  },
  {
   "cell_type": "code",
   "execution_count": 48,
   "metadata": {},
   "outputs": [
    {
     "name": "stdout",
     "output_type": "stream",
     "text": [
      "[6. 6. 6. 3. 6. 6. 6. 6. 6. 3. 3. 3. 3. 6. 1. 2. 1. 2. 2. 3. 3. 6. 2. 1.\n",
      " 2. 1. 1. 3. 1. 2. 2. 3. 1. 1. 1. 2. 2. 1. 3. 2.]\n"
     ]
    }
   ],
   "source": [
    "exp_time= np.array(exp_time)\n",
    "print((exp_time))"
   ]
  },
  {
   "cell_type": "code",
   "execution_count": 49,
   "metadata": {},
   "outputs": [],
   "source": [
    "bias_master = bias_master_mean[:,:,None]\n",
    "z = np.arange(1,41,1)\n",
    "for i in z:\n",
    "    dark_reduced = dark_data - bias_master #dark_master = individ dark fits subtracted by bias"
   ]
  },
  {
   "cell_type": "code",
   "execution_count": 50,
   "metadata": {},
   "outputs": [],
   "source": [
    "dark_master = dark_reduced/exp_time"
   ]
  },
  {
   "cell_type": "code",
   "execution_count": 51,
   "metadata": {},
   "outputs": [
    {
     "name": "stdout",
     "output_type": "stream",
     "text": [
      "/home/jovyan/ASTR_136\n"
     ]
    }
   ],
   "source": [
    "cd .."
   ]
  },
  {
   "cell_type": "code",
   "execution_count": 52,
   "metadata": {},
   "outputs": [],
   "source": [
    "files_flat = [f for f in os.listdir('TWI/') if f.endswith('.fits')]\n",
    "flat_data = np.zeros((510, 765, len(files_flat)))"
   ]
  },
  {
   "cell_type": "code",
   "execution_count": 53,
   "metadata": {},
   "outputs": [
    {
     "name": "stdout",
     "output_type": "stream",
     "text": [
      "/home/jovyan/ASTR_136/TWI\n"
     ]
    }
   ],
   "source": [
    "cd TWI"
   ]
  },
  {
   "cell_type": "code",
   "execution_count": 54,
   "metadata": {},
   "outputs": [],
   "source": [
    "exp_time_flat = []\n",
    "times = []\n",
    "for i in range(len(files_flat)):\n",
    "    hdu_flat = fits.open(files_flat[i])\n",
    "    flat_data[:,:, i] = hdu_flat[0].data #retrieving data from each individual fits file\n",
    "    exp_times_flat = hdu_flat[0].header['EXPTIME']\n",
    "    time= hdu_flat[0].header['TIME-OBS'].split(':')\n",
    "    times.append(time)\n",
    "    exp_time_flat.append(exp_times_flat)\n",
    "    exp_flat = np.array(exp_time_flat)"
   ]
  },
  {
   "cell_type": "code",
   "execution_count": 55,
   "metadata": {},
   "outputs": [],
   "source": [
    "dark_mean = np.mean(dark_master, axis=2, keepdims=True)"
   ]
  },
  {
   "cell_type": "code",
   "execution_count": 56,
   "metadata": {},
   "outputs": [],
   "source": [
    "flat_master = ((flat_data - bias_master)/exp_flat)-dark_mean #here it's still all 67 images"
   ]
  },
  {
   "cell_type": "code",
   "execution_count": 57,
   "metadata": {},
   "outputs": [],
   "source": [
    "flat_mean = np.mean(flat_master, axis=2, keepdims=True) #collapses shape into (510,765,1)"
   ]
  },
  {
   "cell_type": "code",
   "execution_count": 58,
   "metadata": {},
   "outputs": [],
   "source": [
    "science_image = flat_master/flat_mean"
   ]
  },
  {
   "cell_type": "code",
   "execution_count": 59,
   "metadata": {},
   "outputs": [],
   "source": [
    "science_median = np.median(science_image, axis=2, keepdims=True) #collapses shape into (510,765,1)"
   ]
  },
  {
   "cell_type": "code",
   "execution_count": 60,
   "metadata": {},
   "outputs": [],
   "source": [
    "times = np.array(times)"
   ]
  },
  {
   "cell_type": "code",
   "execution_count": 62,
   "metadata": {},
   "outputs": [
    {
     "data": {
      "text/plain": [
       "array([['02', '55', '29.372'],\n",
       "       ['02', '58', '55.727'],\n",
       "       ['03', '02', '02.814'],\n",
       "       ['02', '58', '38.879'],\n",
       "       ['02', '55', '35.799'],\n",
       "       ['03', '05', '33.765'],\n",
       "       ['02', '58', '51.515'],\n",
       "       ['03', '04', '56.309'],\n",
       "       ['03', '05', '11.332'],\n",
       "       ['03', '01', '40.911'],\n",
       "       ['02', '55', '38.982'],\n",
       "       ['02', '58', '43.076'],\n",
       "       ['03', '11', '45.180'],\n",
       "       ['03', '04', '48.759'],\n",
       "       ['03', '05', '41.222'],\n",
       "       ['02', '58', '26.212'],\n",
       "       ['03', '17', '45.420'],\n",
       "       ['03', '20', '39.579'],\n",
       "       ['03', '18', '47.976'],\n",
       "       ['03', '11', '00.174'],\n",
       "       ['03', '15', '40.417'],\n",
       "       ['03', '09', '45.590'],\n",
       "       ['03', '23', '42.084'],\n",
       "       ['03', '10', '15.152'],\n",
       "       ['03', '10', '37.694'],\n",
       "       ['03', '12', '52.650'],\n",
       "       ['03', '13', '15.286'],\n",
       "       ['03', '13', '37.765'],\n",
       "       ['03', '12', '30.170'],\n",
       "       ['03', '08', '55.561'],\n",
       "       ['03', '14', '37.970'],\n",
       "       ['03', '01', '51.894'],\n",
       "       ['02', '55', '32.617'],\n",
       "       ['03', '01', '18.993'],\n",
       "       ['02', '55', '13.195'],\n",
       "       ['03', '01', '46.402'],\n",
       "       ['02', '58', '59.924'],\n",
       "       ['03', '01', '13.533'],\n",
       "       ['03', '08', '18.043'],\n",
       "       ['02', '58', '34.667'],\n",
       "       ['03', '05', '56.276'],\n",
       "       ['02', '55', '26.143'],\n",
       "       ['03', '08', '30.585'],\n",
       "       ['02', '55', '22.929'],\n",
       "       ['02', '58', '47.272'],\n",
       "       ['03', '01', '35.451'],\n",
       "       ['02', '55', '42.180'],\n",
       "       ['03', '09', '08.088'],\n",
       "       ['03', '11', '22.685'],\n",
       "       ['03', '01', '57.354'],\n",
       "       ['03', '05', '03.844'],\n",
       "       ['03', '09', '20.614'],\n",
       "       ['03', '12', '07.722'],\n",
       "       ['03', '01', '24.453'],\n",
       "       ['03', '08', '43.065'],\n",
       "       ['03', '07', '53.083'],\n",
       "       ['02', '58', '30.424'],\n",
       "       ['03', '01', '29.991'],\n",
       "       ['03', '05', '48.710'],\n",
       "       ['03', '08', '05.578'],\n",
       "       ['03', '09', '33.141'],\n",
       "       ['03', '05', '18.773'],\n",
       "       ['02', '58', '22.031'],\n",
       "       ['03', '05', '26.261'],\n",
       "       ['02', '55', '19.716'],\n",
       "       ['02', '55', '16.455'],\n",
       "       ['03', '16', '42.942']], dtype='<U6')"
      ]
     },
     "execution_count": 62,
     "metadata": {},
     "output_type": "execute_result"
    }
   ],
   "source": [
    "times"
   ]
  },
  {
   "cell_type": "code",
   "execution_count": 64,
   "metadata": {},
   "outputs": [
    {
     "data": {
      "text/plain": [
       "(510, 765, 1)"
      ]
     },
     "execution_count": 64,
     "metadata": {},
     "output_type": "execute_result"
    }
   ],
   "source": [
    "science_median.shape"
   ]
  },
  {
   "cell_type": "code",
   "execution_count": null,
   "metadata": {},
   "outputs": [],
   "source": [
    "plt.xlabel('nth nearest neighbors') \n",
    "plt.ylabel('correlation coefficients') \n",
    "plt.title('optimal n value')\n",
    "ax = plt.subplot(111)\n",
    "plt.plot(times, science_median, label=\"projected\" , color = 'darkblue')\n",
    "plt.show() "
   ]
  },
  {
   "cell_type": "code",
   "execution_count": null,
   "metadata": {},
   "outputs": [],
   "source": [
    "#make flat_master by following same protocol but using TWI SKI\n",
    "# make final flat image by subtracting flat_master - dark_master"
   ]
  },
  {
   "cell_type": "code",
   "execution_count": null,
   "metadata": {},
   "outputs": [],
   "source": [
    "#do a best fit line and return goodness of fit\n",
    "#times vs. sky brightess (time = min)\n",
    "#"
   ]
  }
 ],
 "metadata": {
  "kernelspec": {
   "display_name": "Python 3",
   "language": "python",
   "name": "python3"
  },
  "language_info": {
   "codemirror_mode": {
    "name": "ipython",
    "version": 3
   },
   "file_extension": ".py",
   "mimetype": "text/x-python",
   "name": "python",
   "nbconvert_exporter": "python",
   "pygments_lexer": "ipython3",
   "version": "3.7.3"
  }
 },
 "nbformat": 4,
 "nbformat_minor": 4
}
