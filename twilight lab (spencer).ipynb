{
 "cells": [
  {
   "cell_type": "code",
   "execution_count": 1,
   "metadata": {},
   "outputs": [],
   "source": [
    "import matplotlib.pyplot as plt\n",
    "from astropy.visualization import astropy_mpl_style\n",
    "plt.style.use(astropy_mpl_style)\n",
    "import numpy as np\n",
    "import os, sys\n",
    "from astropy.io import fits"
   ]
  },
  {
   "cell_type": "markdown",
   "metadata": {},
   "source": [
    "## Begin loop to read into BIAS files  "
   ]
  },
  {
   "cell_type": "code",
   "execution_count": 2,
   "metadata": {},
   "outputs": [
    {
     "name": "stdout",
     "output_type": "stream",
     "text": [
      "C:\\Users\\speco\n"
     ]
    }
   ],
   "source": [
    "cd\n"
   ]
  },
  {
   "cell_type": "code",
   "execution_count": 3,
   "metadata": {},
   "outputs": [
    {
     "name": "stdout",
     "output_type": "stream",
     "text": [
      "['Project1_SB.00000002.BIAS.fits', 'Project1_SB.00000003.BIAS.fits', 'Project1_SB.00000004.BIAS.fits', 'Project1_SB.00000005.BIAS.fits', 'Project1_SB.00000006.BIAS.fits', 'Project1_SB.00000007.BIAS.fits', 'Project1_SB.00000008.BIAS.fits', 'Project1_SB.00000009.BIAS.fits', 'Project1_SB.00000010.BIAS.fits', 'Project1_SB.00000011.BIAS.fits', 'Project1_SB.00000012.BIAS.fits', 'Project1_SB.00000013.BIAS.fits', 'Project1_SB.00000014.BIAS.fits', 'Project1_SB.00000015.BIAS.fits', 'Project1_SB.00000016.BIAS.fits', 'Project1_SB.00000017.BIAS.fits', 'Project1_SB.00000018.BIAS.fits', 'Project1_SB.00000019.BIAS.fits', 'Project1_SB.00000020.BIAS.fits', 'Project1_SB.00000021.BIAS.fits']\n"
     ]
    }
   ],
   "source": [
    "files = os.listdir('astro136/DATA/BIAS')\n",
    "\n",
    "print(files)"
   ]
  },
  {
   "cell_type": "code",
   "execution_count": 4,
   "metadata": {
    "scrolled": true
   },
   "outputs": [
    {
     "name": "stdout",
     "output_type": "stream",
     "text": [
      "C:\\Users\\speco\\astro136\\DATA\\BIAS\n"
     ]
    }
   ],
   "source": [
    "cd astro136/DATA/BIAS"
   ]
  },
  {
   "cell_type": "code",
   "execution_count": 5,
   "metadata": {},
   "outputs": [],
   "source": [
    "biasdata = np.zeros((510, 765, len(files)))\n",
    "for i in range(len(files)):\n",
    "        hdul = fits.open(files[i])\n",
    "        if not hdul[0].header['EXPTIME']:\n",
    "            biasdata[:,:, i] = hdul[0].data\n",
    "biasmastermean = np.mean(biasdata, axis = 2)\n",
    "biasmastermedian = np.median(biasdata, axis = 2)\n",
    "biasmasterstd = np.std(biasdata, axis = 2)"
   ]
  },
  {
   "cell_type": "code",
   "execution_count": 6,
   "metadata": {
    "scrolled": true
   },
   "outputs": [
    {
     "name": "stdout",
     "output_type": "stream",
     "text": [
      "[[5.60267793 6.12596931 5.61782876 ... 4.34137075 5.09803884 3.76696164]\n",
      " [7.44496474 4.98472667 7.36800516 ... 6.00749532 4.06786185 7.32444537]\n",
      " [5.9352759  6.63626401 5.58099454 ... 7.05265907 5.39073279 6.42261629]\n",
      " ...\n",
      " [6.71174344 7.88289287 5.35233594 ... 5.20960651 6.12596931 5.49795416]\n",
      " [5.80517011 5.16720427 4.97267534 ... 5.83502356 7.32444537 6.96616824]\n",
      " [4.42718872 4.10365691 4.75893896 ... 5.89491306 5.65574929 6.62268828]]\n"
     ]
    }
   ],
   "source": [
    "biasdata.shape\n",
    "print(biasmasterstd)"
   ]
  },
  {
   "cell_type": "code",
   "execution_count": 7,
   "metadata": {},
   "outputs": [
    {
     "name": "stdout",
     "output_type": "stream",
     "text": [
      "[[127.9  126.85 127.8  ... 106.95 107.1  106.1 ]\n",
      " [125.15 126.45 126.25 ... 103.9  103.45 105.45]\n",
      " [126.65 127.4  123.95 ... 104.4  107.2  103.5 ]\n",
      " ...\n",
      " [127.45 126.6  127.45 ... 106.4  104.35 105.65]\n",
      " [127.   128.   126.35 ... 108.45 105.55 109.65]\n",
      " [128.   127.4  124.45 ... 107.5  105.75 109.2 ]]\n"
     ]
    }
   ],
   "source": [
    "print(biasmastermean)"
   ]
  },
  {
   "cell_type": "code",
   "execution_count": 8,
   "metadata": {},
   "outputs": [
    {
     "data": {
      "text/plain": [
       "(510, 765, 20)"
      ]
     },
     "execution_count": 8,
     "metadata": {},
     "output_type": "execute_result"
    }
   ],
   "source": [
    "biasdata.shape"
   ]
  },
  {
   "cell_type": "markdown",
   "metadata": {},
   "source": [
    "## Loop to read into Dark files"
   ]
  },
  {
   "cell_type": "code",
   "execution_count": 9,
   "metadata": {},
   "outputs": [
    {
     "name": "stdout",
     "output_type": "stream",
     "text": [
      "C:\\Users\\speco\n"
     ]
    }
   ],
   "source": [
    "cd "
   ]
  },
  {
   "cell_type": "code",
   "execution_count": 10,
   "metadata": {
    "scrolled": true
   },
   "outputs": [
    {
     "name": "stdout",
     "output_type": "stream",
     "text": [
      "['Project1_SB.00000027.DARK.fits', 'Project1_SB.00000028.DARK.fits', 'Project1_SB.00000029.DARK.fits', 'Project1_SB.00000030.DARK.fits', 'Project1_SB.00000031.DARK.fits', 'Project1_SB.00000032.DARK.fits', 'Project1_SB.00000033.DARK.fits', 'Project1_SB.00000034.DARK.fits', 'Project1_SB.00000035.DARK.fits', 'Project1_SB.00000036.DARK.fits', 'Project1_SB.00000037.DARK.fits', 'Project1_SB.00000038.DARK.fits', 'Project1_SB.00000039.DARK.fits', 'Project1_SB.00000040.DARK.fits', 'Project1_SB.00000041.DARK.fits', 'Project1_SB.00000042.DARK.fits', 'Project1_SB.00000043.DARK.fits', 'Project1_SB.00000044.DARK.fits', 'Project1_SB.00000045.DARK.fits', 'Project1_SB.00000046.DARK.fits', 'Project1_SB.00000047.DARK.fits', 'Project1_SB.00000048.DARK.fits', 'Project1_SB.00000049.DARK.fits', 'Project1_SB.00000050.DARK.fits', 'Project1_SB.00000051.DARK.fits', 'Project1_SB.00000052.DARK.fits', 'Project1_SB.00000053.DARK.fits', 'Project1_SB.00000054.DARK.fits', 'Project1_SB.00000055.DARK.fits', 'Project1_SB.00000056.DARK.fits', 'Project1_SB.00000057.DARK.fits', 'Project1_SB.00000058.DARK.fits', 'Project1_SB.00000059.DARK.fits', 'Project1_SB.00000060.DARK.fits', 'Project1_SB.00000061.DARK.fits', 'Project1_SB.00000062.DARK.fits', 'Project1_SB.00000063.DARK.fits', 'Project1_SB.00000064.DARK.fits', 'Project1_SB.00000065.DARK.fits', 'Project1_SB.00000066.DARK.fits']\n"
     ]
    }
   ],
   "source": [
    "filesDARK = os.listdir('astro136/DATA/DARK')\n",
    "\n",
    "print(filesDARK)"
   ]
  },
  {
   "cell_type": "code",
   "execution_count": 11,
   "metadata": {},
   "outputs": [
    {
     "name": "stdout",
     "output_type": "stream",
     "text": [
      "C:\\Users\\speco\\astro136\\DATA\\DARK\n"
     ]
    }
   ],
   "source": [
    "cd astro136/DATA/DARK"
   ]
  },
  {
   "cell_type": "code",
   "execution_count": 12,
   "metadata": {},
   "outputs": [],
   "source": [
    "darkdata = np.zeros((510, 765, len(filesDARK)))\n",
    "exp_times =  []\n",
    "for i in range(len(filesDARK)):\n",
    "        hdul_dark = fits.open(filesDARK[i])\n",
    "        exp_time = hdul_dark[0].header['EXPTIME']\n",
    "        exp_times.append(exp_time) # adds the times to the list\n",
    "        if not hdul_dark[0].header['EXPTIME']:\n",
    "            darkdata[:,:, i] = hdul_dark[0].data\n",
    "DARKmastermean = np.mean(darkdata, axis = 2)\n",
    "DARKmastermedian = np.median(darkdata, axis = 2)\n",
    "DARKmasterstd = np.std(darkdata, axis = 2)"
   ]
  },
  {
   "cell_type": "code",
   "execution_count": 13,
   "metadata": {},
   "outputs": [
    {
     "name": "stdout",
     "output_type": "stream",
     "text": [
      "[1. 1. 1. 1. 1. 1. 1. 1. 1. 1. 2. 2. 2. 2. 2. 2. 2. 2. 2. 2. 3. 3. 3. 3.\n",
      " 3. 3. 3. 3. 3. 3. 6. 6. 6. 6. 6. 6. 6. 6. 6. 6.]\n"
     ]
    }
   ],
   "source": [
    "exp_times = np.array(exp_times)\n",
    "print(exp_times)"
   ]
  },
  {
   "cell_type": "markdown",
   "metadata": {},
   "source": [
    "# master dark corrected"
   ]
  },
  {
   "cell_type": "code",
   "execution_count": 14,
   "metadata": {},
   "outputs": [
    {
     "name": "stdout",
     "output_type": "stream",
     "text": [
      "40\n"
     ]
    }
   ],
   "source": [
    "print(len(filesDARK))"
   ]
  },
  {
   "cell_type": "code",
   "execution_count": 15,
   "metadata": {},
   "outputs": [],
   "source": [
    "biasmaster = biasmastermean[:,:,None]\n",
    "z = np.arange(1,41,1) # creates evenly spaced values (start, stop, step)\n",
    "for i in z:\n",
    "    darkreduced = darkdata - biasmaster"
   ]
  },
  {
   "cell_type": "code",
   "execution_count": 16,
   "metadata": {},
   "outputs": [],
   "source": [
    "DARKMASTER = np.absolute(darkreduced/exp_time)"
   ]
  },
  {
   "cell_type": "code",
   "execution_count": 30,
   "metadata": {},
   "outputs": [
    {
     "data": {
      "text/plain": [
       "(510, 765, 40)"
      ]
     },
     "execution_count": 30,
     "metadata": {},
     "output_type": "execute_result"
    }
   ],
   "source": [
    "DARKMASTER.shape"
   ]
  },
  {
   "cell_type": "code",
   "execution_count": 32,
   "metadata": {},
   "outputs": [],
   "source": [
    "DARKMASTERmean = np.mean(DARKMASTER, axis = 2, keepdims = True)"
   ]
  },
  {
   "cell_type": "markdown",
   "metadata": {},
   "source": [
    "## Master flat\n"
   ]
  },
  {
   "cell_type": "code",
   "execution_count": 24,
   "metadata": {},
   "outputs": [
    {
     "name": "stdout",
     "output_type": "stream",
     "text": [
      "C:\\Users\\speco\n"
     ]
    }
   ],
   "source": [
    "cd"
   ]
  },
  {
   "cell_type": "code",
   "execution_count": 25,
   "metadata": {},
   "outputs": [
    {
     "name": "stdout",
     "output_type": "stream",
     "text": [
      "['Project1_SB.00000096.fits', 'Project1_SB.00000105.fits', 'Project1_SB.00000108.fits', 'Project1_SB.00000118.fits', 'Project1_SB.00000124.fits']\n"
     ]
    }
   ],
   "source": [
    "filesFLATS = os.listdir('astro136/DATA/FLATS')\n",
    "\n",
    "print(filesFLATS)"
   ]
  },
  {
   "cell_type": "code",
   "execution_count": 26,
   "metadata": {},
   "outputs": [
    {
     "name": "stdout",
     "output_type": "stream",
     "text": [
      "C:\\Users\\speco\\astro136\\DATA\\FLATS\n"
     ]
    }
   ],
   "source": [
    "cd astro136/DATA/FLATS"
   ]
  },
  {
   "cell_type": "code",
   "execution_count": 28,
   "metadata": {},
   "outputs": [],
   "source": [
    "FLATSdata = np.zeros((510, 765, len(filesFLATS))) # 5 of the twilight data files\n",
    "exp_timesFLATS =  []\n",
    "for i in range(len(filesFLATS)):\n",
    "        hdul_FLATS = fits.open(filesFLATS[i])\n",
    "        exp_timeFLATS = hdul_FLATS[0].header['EXPTIME']\n",
    "        exp_timesFLATS.append(exp_timeFLATS) # adds the times to the list\n",
    "        if not hdul_FLATS[0].header['EXPTIME']:\n",
    "            FLATSdata[:,:, i] = hdul_FLATS[0].data\n",
    "FLATSmastermean = np.mean(FLATSdata, axis = 2)\n",
    "FLATSmastermedian = np.median(FLATSdata, axis =2)\n",
    "FLATSmasterstd = np.std(FLATSdata, axis = 2)"
   ]
  },
  {
   "cell_type": "code",
   "execution_count": 29,
   "metadata": {},
   "outputs": [],
   "source": [
    "biasmaster = biasmastermean[:,:,None]\n",
    "z = np.arange(1,6,1) # creates evenly spaced values (start, stop, step)\n",
    "for i in z:\n",
    "    FLATSreduced = np.absolute(FLATSdata - biasmaster)"
   ]
  },
  {
   "cell_type": "code",
   "execution_count": 33,
   "metadata": {},
   "outputs": [],
   "source": [
    "FLATSmaster = (FLATSreduced/exp_timesFLATS)- DARKMASTERmean"
   ]
  },
  {
   "cell_type": "code",
   "execution_count": 34,
   "metadata": {},
   "outputs": [
    {
     "data": {
      "text/plain": [
       "(510, 765, 5)"
      ]
     },
     "execution_count": 34,
     "metadata": {},
     "output_type": "execute_result"
    }
   ],
   "source": [
    "FLATSmaster.shape"
   ]
  },
  {
   "cell_type": "code",
   "execution_count": 99,
   "metadata": {},
   "outputs": [],
   "source": [
    "FLATSmastermean = np.mean(FLATSmaster, axis = 2, keepdims = True)"
   ]
  },
  {
   "cell_type": "markdown",
   "metadata": {},
   "source": [
    "# Science data\n"
   ]
  },
  {
   "cell_type": "code",
   "execution_count": 36,
   "metadata": {},
   "outputs": [
    {
     "name": "stdout",
     "output_type": "stream",
     "text": [
      "C:\\Users\\speco\n"
     ]
    }
   ],
   "source": [
    "cd"
   ]
  },
  {
   "cell_type": "code",
   "execution_count": 37,
   "metadata": {},
   "outputs": [
    {
     "name": "stdout",
     "output_type": "stream",
     "text": [
      "['Project1_SB.00000089.fits', 'Project1_SB.00000090.fits', 'Project1_SB.00000091.fits', 'Project1_SB.00000092.fits', 'Project1_SB.00000093.fits', 'Project1_SB.00000094.fits', 'Project1_SB.00000095.fits', 'Project1_SB.00000096.fits', 'Project1_SB.00000097.fits', 'Project1_SB.00000098.fits', 'Project1_SB.00000099.fits', 'Project1_SB.00000100.fits', 'Project1_SB.00000101.fits', 'Project1_SB.00000102.fits', 'Project1_SB.00000103.fits', 'Project1_SB.00000104.fits', 'Project1_SB.00000105.fits', 'Project1_SB.00000106.fits', 'Project1_SB.00000107.fits', 'Project1_SB.00000108.fits', 'Project1_SB.00000109.fits', 'Project1_SB.00000110.fits', 'Project1_SB.00000111.fits', 'Project1_SB.00000112.fits', 'Project1_SB.00000113.fits', 'Project1_SB.00000114.fits', 'Project1_SB.00000115.fits', 'Project1_SB.00000116.fits', 'Project1_SB.00000117.fits', 'Project1_SB.00000118.fits', 'Project1_SB.00000119.fits', 'Project1_SB.00000120.fits', 'Project1_SB.00000121.fits', 'Project1_SB.00000122.fits', 'Project1_SB.00000123.fits', 'Project1_SB.00000124.fits', 'Project1_SB.00000125.fits', 'Project1_SB.00000126.fits', 'Project1_SB.00000127.fits', 'Project1_SB.00000128.fits', 'Project1_SB.00000129.fits', 'Project1_SB.00000130.fits', 'Project1_SB.00000131.fits', 'Project1_SB.00000132.fits', 'Project1_SB.00000133.fits', 'Project1_SB.00000134.fits', 'Project1_SB.00000135.fits', 'Project1_SB.00000136.fits', 'Project1_SB.00000137.fits', 'Project1_SB.00000138.fits', 'Project1_SB.00000139.fits', 'Project1_SB.00000140.fits', 'Project1_SB.00000141.fits', 'Project1_SB.00000142.fits', 'Project1_SB.00000143.fits', 'Project1_SB.00000144.fits', 'Project1_SB.00000145.fits', 'Project1_SB.00000146.fits', 'Project1_SB.00000147.fits', 'Project1_SB.00000148.fits', 'Project1_SB.00000149.fits', 'Project1_SB.00000150.fits', 'Project1_SB.00000151.fits', 'Project1_SB.00000152.fits', 'Project1_SB.00000153.fits', 'Project1_SB.00000154.fits', 'Project1_SB.00000155.fits']\n"
     ]
    }
   ],
   "source": [
    "filesTWI_SKY = os.listdir('astro136/DATA/TWI_SKY')\n",
    "\n",
    "print(filesTWI_SKY)"
   ]
  },
  {
   "cell_type": "code",
   "execution_count": 38,
   "metadata": {},
   "outputs": [
    {
     "name": "stdout",
     "output_type": "stream",
     "text": [
      "C:\\Users\\speco\\astro136\\DATA\\TWI_SKY\n"
     ]
    }
   ],
   "source": [
    "cd astro136/DATA/TWI_SKY"
   ]
  },
  {
   "cell_type": "code",
   "execution_count": 40,
   "metadata": {},
   "outputs": [],
   "source": [
    "TWILIGHTdata = np.zeros((510, 765, len(filesTWI_SKY))) # all the twilight data\n",
    "exp_time_science = []\n",
    "times = []\n",
    "for i in range(len(filesTWI_SKY)):\n",
    "        hdul_twi = fits.open(filesTWI_SKY[i])\n",
    "        exp_times_science = hdul_twi[0].header['EXPTIME']\n",
    "        time = hdul_twi[0].header['TIME-OBS'].split(':')\n",
    "        times.append(time)\n",
    "        exp_time_science.append(exp_times_science)\n",
    "        exp_science = np.array(exp_time_science)\n",
    "        if not hdul_twi[0].header['EXPTIME']:\n",
    "            TWILIGHTdata[:,:, i] = hdul_twi[0].data\n",
    "TWILIGHTmastermean = np.mean(TWILIGHTdata, axis = 2)\n",
    "TWILIGHTmastermedian = np.median(TWILIGHTdata, axis = 2)\n",
    "TWILIGHTmasterstd = np.std(TWILIGHTdata, axis = 2)"
   ]
  },
  {
   "cell_type": "code",
   "execution_count": 101,
   "metadata": {},
   "outputs": [],
   "source": [
    "SCIENCEMASTER = (((TWILIGHTdata - biasmaster)/exp_science)- DARKMASTERmean)/FLATSmastermean"
   ]
  },
  {
   "cell_type": "code",
   "execution_count": 104,
   "metadata": {},
   "outputs": [],
   "source": [
    "ScienceMasterMean = np.mean(SCIENCEMASTER, axis = (0,1))"
   ]
  },
  {
   "cell_type": "markdown",
   "metadata": {},
   "source": [
    "# Change the Time into seconds"
   ]
  },
  {
   "cell_type": "code",
   "execution_count": 47,
   "metadata": {},
   "outputs": [],
   "source": [
    "times = np.array(times) # change the list into an array"
   ]
  },
  {
   "cell_type": "code",
   "execution_count": 49,
   "metadata": {},
   "outputs": [
    {
     "data": {
      "text/plain": [
       "(67, 3)"
      ]
     },
     "execution_count": 49,
     "metadata": {},
     "output_type": "execute_result"
    }
   ],
   "source": [
    "times.shape"
   ]
  },
  {
   "cell_type": "code",
   "execution_count": 80,
   "metadata": {},
   "outputs": [
    {
     "name": "stdout",
     "output_type": "stream",
     "text": [
      "67\n"
     ]
    }
   ],
   "source": [
    "\n",
    "hours = np.array(times[:,0])\n",
    "minutes = np.array(times[:,1])\n",
    "seconds = np.array(times[:,2])\n",
    "print(len(seconds))"
   ]
  },
  {
   "cell_type": "code",
   "execution_count": 81,
   "metadata": {},
   "outputs": [
    {
     "name": "stdout",
     "output_type": "stream",
     "text": [
      "67\n"
     ]
    }
   ],
   "source": [
    "z = np.arange(0,67,1)\n",
    "print(len(z))"
   ]
  },
  {
   "cell_type": "code",
   "execution_count": 82,
   "metadata": {},
   "outputs": [],
   "source": [
    "hours_sec = []\n",
    "for i in range(len(z)):\n",
    "    hours_secs =  int(hours[i])\n",
    "    hours_sec.append(hours_secs)\n",
    "    \n",
    "min_sec = []    \n",
    "for i in range(len(z)):\n",
    "    min_secs = int(minutes[i]) # converts specified value into integer\n",
    "    min_sec.append(min_secs)\n"
   ]
  },
  {
   "cell_type": "code",
   "execution_count": 83,
   "metadata": {},
   "outputs": [],
   "source": [
    "SECOND = []\n",
    "for i in range(len(z)):\n",
    "    second = float(seconds[i]) # converts number or string into a float\n",
    "    SECOND.append(second)\n",
    "\n",
    "    #hours_to_sec = hours_sec*360\n",
    "    #min_sec= min_sec*60"
   ]
  },
  {
   "cell_type": "code",
   "execution_count": 92,
   "metadata": {},
   "outputs": [
    {
     "name": "stdout",
     "output_type": "stream",
     "text": [
      "(67,)\n",
      "(67,)\n"
     ]
    }
   ],
   "source": [
    "hours_sec = np.array(hours_sec)\n",
    "min_sec = np.array(min_sec)\n",
    "print(hours_sec.shape)\n",
    "print(min_sec.shape)"
   ]
  },
  {
   "cell_type": "code",
   "execution_count": 93,
   "metadata": {},
   "outputs": [
    {
     "name": "stdout",
     "output_type": "stream",
     "text": [
      "67\n",
      "(67,)\n",
      "(67,)\n"
     ]
    }
   ],
   "source": [
    "HOURS_SEC = hours_sec*3600\n",
    "MIN_SEC = min_sec*60\n",
    "print(len(SECOND))\n",
    "print(MIN_SEC.shape)\n",
    "print(HOURS_SEC.shape)"
   ]
  },
  {
   "cell_type": "code",
   "execution_count": 68,
   "metadata": {},
   "outputs": [
    {
     "data": {
      "text/plain": [
       "(67,)"
      ]
     },
     "execution_count": 68,
     "metadata": {},
     "output_type": "execute_result"
    }
   ],
   "source": [
    "SEC = np.array(SECOND)\n",
    "SEC.shape"
   ]
  },
  {
   "cell_type": "code",
   "execution_count": 94,
   "metadata": {},
   "outputs": [],
   "source": [
    "TIME = HOURS_SEC + MIN_SEC + SEC"
   ]
  },
  {
   "cell_type": "code",
   "execution_count": 95,
   "metadata": {},
   "outputs": [
    {
     "name": "stdout",
     "output_type": "stream",
     "text": [
      "[10513.195 10516.455 10519.716 10522.929 10526.143 10529.372 10532.617\n",
      " 10535.799 10538.982 10542.18  10702.031 10706.212 10710.424 10714.667\n",
      " 10718.879 10723.076 10727.272 10731.515 10735.727 10739.924 10873.533\n",
      " 10878.993 10884.453 10889.991 10895.451 10900.911 10906.402 10911.894\n",
      " 10917.354 10922.814 11088.759 11096.309 11103.844 11111.332 11118.773\n",
      " 11126.261 11133.765 11141.222 11148.71  11156.276 11273.083 11285.578\n",
      " 11298.043 11310.585 11323.065 11335.561 11348.088 11360.614 11373.141\n",
      " 11385.59  11415.152 11437.694 11460.174 11482.685 11505.18  11527.722\n",
      " 11550.17  11572.65  11595.286 11617.765 11677.97  11740.417 11802.942\n",
      " 11865.42  11927.976 12039.579 12222.084]\n"
     ]
    }
   ],
   "source": [
    "TIME.shape\n",
    "print(TIME)"
   ]
  },
  {
   "cell_type": "code",
   "execution_count": 67,
   "metadata": {},
   "outputs": [
    {
     "data": {
      "text/plain": [
       "(67,)"
      ]
     },
     "execution_count": 67,
     "metadata": {},
     "output_type": "execute_result"
    }
   ],
   "source": [
    "TIME.shape"
   ]
  },
  {
   "cell_type": "code",
   "execution_count": 105,
   "metadata": {},
   "outputs": [
    {
     "name": "stderr",
     "output_type": "stream",
     "text": [
      "C:\\Users\\speco\\Anaconda3\\lib\\site-packages\\ipykernel_launcher.py:4: MatplotlibDeprecationWarning: Adding an axes using the same arguments as a previous axes currently reuses the earlier instance.  In a future version, a new instance will always be created and returned.  Meanwhile, this warning can be suppressed, and the future behavior ensured, by passing a unique label to each axes instance.\n",
      "  after removing the cwd from sys.path.\n"
     ]
    },
    {
     "data": {
      "image/png": "[encoded data removed]",
      "text/plain": [
       "<Figure size 432x288 with 1 Axes>"
      ]
     },
     "metadata": {
      "needs_background": "light"
     },
     "output_type": "display_data"
    }
   ],
   "source": [
    "plt.xlabel('time (s)') \n",
    "plt.ylabel('sky brightness') \n",
    "plt.title('TWILIGHT SKY')\n",
    "ax = plt.subplot(111)\n",
    "plt.scatter(TIME, ScienceMasterMean, label=\"projected\" , color = 'darkblue')\n",
    "plt.show()"
   ]
  },
  {
   "cell_type": "code",
   "execution_count": null,
   "metadata": {},
   "outputs": [],
   "source": []
  }
 ],
 "metadata": {
  "kernelspec": {
   "display_name": "Python 3",
   "language": "python",
   "name": "python3"
  },
  "language_info": {
   "codemirror_mode": {
    "name": "ipython",
    "version": 3
   },
   "file_extension": ".py",
   "mimetype": "text/x-python",
   "name": "python",
   "nbconvert_exporter": "python",
   "pygments_lexer": "ipython3",
   "version": "3.7.3"
  }
 },
 "nbformat": 4,
 "nbformat_minor": 2
}
